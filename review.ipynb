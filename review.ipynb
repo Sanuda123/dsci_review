{
 "cells": [
  {
   "cell_type": "markdown",
   "id": "411c5790-d6a0-49fe-be5e-12172dbad64b",
   "metadata": {},
   "source": [
    "# DSCI 100 Review"
   ]
  },
  {
   "cell_type": "markdown",
   "id": "4f5e4d3e-0ca5-413f-9482-97062b08fba8",
   "metadata": {},
   "source": [
    "## Reading "
   ]
  },
  {
   "cell_type": "markdown",
   "id": "3421148e-329c-4022-9725-6fd93fe6e549",
   "metadata": {},
   "source": [
    "## Wrangling "
   ]
  },
  {
   "cell_type": "markdown",
   "id": "b7b793ae-ec7b-489c-9780-2089853dad90",
   "metadata": {},
   "source": [
    "## Visualization "
   ]
  },
  {
   "cell_type": "markdown",
   "id": "1c6d0e15-c076-4a58-93af-47067edf1410",
   "metadata": {},
   "source": [
    "## Classification"
   ]
  },
  {
   "cell_type": "markdown",
   "id": "b57e6c9e-be19-47d9-8cbe-55123fa886fe",
   "metadata": {},
   "source": [
    "## Regression"
   ]
  },
  {
   "cell_type": "markdown",
   "id": "855e911e-e50e-4edf-a33f-a54ba886b57d",
   "metadata": {},
   "source": [
    "## Clustering "
   ]
  },
  {
   "cell_type": "markdown",
   "id": "c02e0881-e914-4412-b9e6-ac71c7e45626",
   "metadata": {
    "tags": []
   },
   "source": [
    "## Inference "
   ]
  },
  {
   "cell_type": "code",
   "execution_count": null,
   "id": "7b26d892-6fc3-4cde-9b91-22cd89482b59",
   "metadata": {},
   "outputs": [],
   "source": []
  }
 ],
 "metadata": {
  "kernelspec": {
   "display_name": "R",
   "language": "R",
   "name": "ir"
  },
  "language_info": {
   "codemirror_mode": "r",
   "file_extension": ".r",
   "mimetype": "text/x-r-source",
   "name": "R",
   "pygments_lexer": "r",
   "version": "4.2.2"
  }
 },
 "nbformat": 4,
 "nbformat_minor": 5
}
