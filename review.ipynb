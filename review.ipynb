{
 "cells": [
  {
   "cell_type": "markdown",
   "id": "411c5790-d6a0-49fe-be5e-12172dbad64b",
   "metadata": {},
   "source": [
    "# DSCI 100 Review"
   ]
  },
  {
   "cell_type": "markdown",
   "id": "56e42dbd-6392-479d-b124-fbf665b7dba2",
   "metadata": {},
   "source": [
    "## Reading "
   ]
  },
  {
   "cell_type": "markdown",
   "id": "5ddebb8d-8c8c-4cfa-a995-5b359df6eb91",
   "metadata": {},
   "source": [
    "### Relative and Absolute Paths"
   ]
  },
  {
   "cell_type": "markdown",
   "id": "e2b14a4d-8985-4d38-a02d-b31679760b69",
   "metadata": {},
   "source": [
    "Understand the difference between relative and absolute paths. \n",
    "\n",
    "Absolute path Ex. \n",
    "`\"/home/dsci-100/worksheet_02/data/happiness_report.csv\"`\n",
    "\n",
    "Relative path Ex.\n",
    "`\"data/happiness_report.csv\"`\n",
    "\n",
    "Relative paths are better than absolute paths because relative paths can be opened by different computers"
   ]
  },
  {
   "cell_type": "markdown",
   "id": "04f58339-b002-42a8-bd38-b55036f0080c",
   "metadata": {},
   "source": [
    "### Differing Read functions"
   ]
  },
  {
   "cell_type": "markdown",
   "id": "0efb191c-c531-4fbc-9f0e-3f65e5ef724d",
   "metadata": {},
   "source": [
    "`read_()` <- reads a data frame using the following delimeters\n",
    "\n",
    "`read_csv()` <- commas (\",\")\n",
    "\n",
    "`read_csv2()` <- semicolons (\";\")\n",
    "\n",
    "`read_tsv()` <- tabs (\"/t\")\n",
    "\n",
    "`read_excel()`- excel sheets (\".xlsx\")\n",
    "\n",
    "`read_delim()` - any delimeter \n",
    "\n",
    "Ex. `read_delim(\"path\", delim = \"/t\", colnames = TRUE/FALSE\", skip = ...)`\n",
    "\n",
    "Alternatively, you can also read from a url.\n",
    "\n",
    "`download.file(URL, path)` is used to download a file if using the url doesn't work"
   ]
  },
  {
   "cell_type": "markdown",
   "id": "12afc226-a5ed-401b-962c-00d42ec99cd7",
   "metadata": {},
   "source": [
    "### Reading from a database "
   ]
  },
  {
   "cell_type": "markdown",
   "id": "70163fee-f5fc-48c4-9896-8e94a2f408f5",
   "metadata": {
    "tags": []
   },
   "source": [
    "To read from a database, we must first load the library\n",
    "\n",
    "`library(DBI)`\n",
    "\n",
    "\n",
    "Connect to the database using `dbConnect(RSQLite::SQLite(), \"path.db\")`\n",
    "\n",
    "Use `dbListTables(data)` to list all tables in the database\n",
    "\n",
    "Use `tbl(data, table_name)` to access a reference of the data frame\n",
    "\n",
    "In order to convert the reference to a data frame, use `collect()`\n",
    "Now we will be able to use the operations.\n",
    "\n",
    "It is better to use `filter()` or `select()` before collecting in order to reduce the data\n",
    "\n",
    "Now the data frame can be used regularly"
   ]
  },
  {
   "cell_type": "markdown",
   "id": "fc7dee98-30be-4473-a3ae-9090044abd61",
   "metadata": {
    "tags": []
   },
   "source": [
    "For RPostgres, we need to use `library(RPostgres)`\n",
    "\n",
    "We need a host, port, user and password to connect to this database\n",
    "\n",
    "Ex. `dbconnect(RPostgres::Postgres(), dbname = ... , host = ... , port = ... , username = ... , password = ...)`\n",
    "\n",
    "The rest of the process is the same as SQlite."
   ]
  },
  {
   "cell_type": "markdown",
   "id": "d0fd8936-a796-4714-9099-30e7cd43191b",
   "metadata": {},
   "source": [
    "Benefits of Databases:\n",
    "- They enable storing large data sets across multiple computers with backups\n",
    "- They provide mechanisms for ensuring data integrity and validating input\n",
    "- They provide security and data access control\n",
    "- They allow multiple users to access data simultaneously and remotely without conflicts and errors"
   ]
  },
  {
   "cell_type": "markdown",
   "id": "8a2c9a38-7cb2-42ba-96c6-40d7cb840621",
   "metadata": {
    "tags": []
   },
   "source": [
    "Using `write_csv(df_name, path)` converts a data frame into a path"
   ]
  },
  {
   "cell_type": "markdown",
   "id": "3421148e-329c-4022-9725-6fd93fe6e549",
   "metadata": {},
   "source": [
    "## Wrangling "
   ]
  },
  {
   "cell_type": "markdown",
   "id": "a05bb67c-5a52-4114-b53f-3142919bca14",
   "metadata": {},
   "source": [
    "### What is Tidy Data"
   ]
  },
  {
   "cell_type": "markdown",
   "id": "c9f9c784-38eb-49eb-b51c-c724117b606b",
   "metadata": {},
   "source": [
    "Variable - a characteristic, number, or quantity that can be measured.\n",
    "\n",
    "Observation - all of the measurements for a given entity.\n",
    "\n",
    "Value - a single measurement of a single variable for a given entity.\n",
    "\n",
    "A tidy data frame meets the following requirements\n",
    "- each column has **one** variable\n",
    "- each row has **one** observation\n",
    "- each cell has **one** value "
   ]
  },
  {
   "cell_type": "markdown",
   "id": "95928130-0e73-4a3f-b8c6-7374cdf75b54",
   "metadata": {},
   "source": [
    "A vector must consist of one type, while lists contain multiple types. While data frames typically consist of vectors, they can be made up of lists as well. \n",
    "\n",
    "Data frames **must** have vectors or lists of equal length\n"
   ]
  },
  {
   "cell_type": "markdown",
   "id": "a25239e7-5e4d-4c4e-b321-d8d72a94b283",
   "metadata": {},
   "source": [
    "### Tidy Functions\n",
    "\n",
    "\n",
    "pivot_longer takes a number of columns and turns them into 2 columns</br> \n",
    "`pivot_longer(cols = ..., name_to = ..., values_to = ...)` \n",
    "\n",
    "pivot_wider takes 2 columns and turns them into a number of columns</br> \n",
    "`pivot_wider(names_from = ..., values_from = ...)`\n",
    "\n",
    "Use separate if there is a column with multiple values in each cell</br>\n",
    "`separate(col = ..., into = c(col_name_1, col_name_2), sep = ...)`\n"
   ]
  },
  {
   "cell_type": "markdown",
   "id": "bf2961eb-e196-46fe-9dcf-75871209a43f",
   "metadata": {},
   "source": [
    "### Wrangling Functions"
   ]
  },
  {
   "cell_type": "markdown",
   "id": "b2bd19b1-b138-4b8c-a96e-fd47030a34ab",
   "metadata": {
    "tags": []
   },
   "source": [
    "- `select()` \n",
    "- `filter()`\n",
    "- `mutate()`\n",
    "- `group_by()`\n",
    "- `summarize()`\n",
    "- `across()`\n",
    "- `map()`"
   ]
  },
  {
   "cell_type": "markdown",
   "id": "839af3b8-799a-4710-9bd6-85dbcb00b6bd",
   "metadata": {
    "tags": []
   },
   "source": [
    "| Function    | Description                                                          |\n",
    "| ----------- | ---------------------------------------------------------------------|\n",
    "| across      |  allows you to apply function(s) to multiple columns                 |\n",
    "|filter       |  subsets rows of a data frame                                        |\n",
    "|group_by     |  allows you to apply function(s) to groups of rows                   |\n",
    "|mutate       |  adds or modifies columns in a data frame                            |\n",
    "|map          |  general iteration function                                          |\n",
    "|pivot_longer |  generally makes the data frame longer and narrower                  |\n",
    "|pivot_wider  |  generally makes a data frame wider and decreases the number of rows |\n",
    "|rowwise      |  applies functions across columns within one row                     |\n",
    "|separate     |  splits up a character column into multiple columns                  |\n",
    "|select       |  subsets columns of a data frame                                     |\n",
    "|summarize    |  calculates summaries of inputs                                      |"
   ]
  },
  {
   "cell_type": "markdown",
   "id": "b7b793ae-ec7b-489c-9780-2089853dad90",
   "metadata": {},
   "source": [
    "## Visualization "
   ]
  },
  {
   "cell_type": "markdown",
   "id": "16bd042b-0d13-494f-b7aa-81b2237b9fb6",
   "metadata": {},
   "source": [
    "### Do's and Dont's "
   ]
  },
  {
   "cell_type": "markdown",
   "id": "e3e847b4-2b62-4e50-a1f9-e3ac6987f06a",
   "metadata": {},
   "source": [
    "- Convey the Message \n",
    "    - Make sure the visualization answers a specific question\n",
    "    - Use legends and titles\n",
    "    - The graph should be readable without any surrounding knowledge\n",
    "    - Use color schemes that are understandable for the color blind"
   ]
  },
  {
   "cell_type": "markdown",
   "id": "d2a74d69-119a-41bb-92ff-b05d801f6c27",
   "metadata": {},
   "source": [
    "- Minimize noise\n",
    "    - use colors sparingly \n",
    "    - consider overplotting \n",
    "    - only make the plot as big as it needs to be"
   ]
  },
  {
   "cell_type": "markdown",
   "id": "57188b00-fea8-4096-9618-fb0c91ef687e",
   "metadata": {},
   "source": [
    "### Various sub-functions in ggplot"
   ]
  },
  {
   "cell_type": "markdown",
   "id": "7770b309-f4ae-44ba-b4c0-f070873406ed",
   "metadata": {},
   "source": [
    "- `aes(x = ..., y = ...)`\n",
    "    - `color = col_name`\n",
    "    - `fill = col_name` <- color for bar or histogram plots(only factors)\n",
    "- `goem_...()`\n",
    "    - `alpha = ...` <- make the data translucent\n",
    "    - `binwidth = ...` <- only for bar and histogram \n",
    "    - `bins = ...` <- only for bar and histogram\n",
    "- `xlab()`\n",
    "- `ylab()` \n",
    "- `labs()`\n",
    "    - `color = ...`\n",
    "- `theme()`\n",
    "    - `text = element_text(size = ...)`\n",
    "    - `legend.position = \"top\"`\n",
    "    - `legend.direction = \"vertical\"`\n",
    "\n",
    "- `xlim(c(upper, lower))`\n",
    "- `ylim(c(upper, lower))`\n",
    "- `scale_x_log10()`\n",
    "    - `labels = label_comma()`\n",
    "- `scale_y_log10()`\n",
    "    - `labels = label_comma()`\n",
    "- `scale_color_brewer(palette = ...)`\n",
    "- `facet_grid(rows = vars(col_name))`\n",
    "- `ggtitle()`\n",
    "\n"
   ]
  },
  {
   "cell_type": "markdown",
   "id": "a5fadef9-8bd0-423c-a6e7-c35ba63b9e43",
   "metadata": {},
   "source": [
    "### geom_bar\n",
    "\n",
    "By default, the height of the bars are set to the number of times a value appears in the data frame(count)\n",
    "instead, we can make it so that the height represents the values in the data frame(identity)"
   ]
  },
  {
   "cell_type": "markdown",
   "id": "7aa862a0-5bb8-43aa-b3b6-c7e273c5c01f",
   "metadata": {},
   "source": [
    "### Answering the Question\n",
    "\n",
    "Direction - positive or negative relationship between x and y. \n",
    "\n",
    "Strength - stronger if the data takes the shape of a line rather than a cloud shape\n",
    "\n",
    "Shape - If you can draw a straight line through the data points, it is linear. Otherwise, it is non-linear\n"
   ]
  },
  {
   "cell_type": "markdown",
   "id": "b94736df-ca27-4287-9756-3e480719f74f",
   "metadata": {},
   "source": [
    "### Saving a Visualization\n",
    "\n",
    "An image can either be stored as a raster image or a vector image. The raster method is quicker but becomes blurry when zoomed in. A vector image often takes longer because the computer has to draw out the entire image. This allows you to zoom while maintaining clarity."
   ]
  },
  {
   "cell_type": "markdown",
   "id": "1c6d0e15-c076-4a58-93af-47067edf1410",
   "metadata": {},
   "source": [
    "## Classification"
   ]
  },
  {
   "cell_type": "markdown",
   "id": "b57e6c9e-be19-47d9-8cbe-55123fa886fe",
   "metadata": {},
   "source": [
    "## Regression"
   ]
  },
  {
   "cell_type": "markdown",
   "id": "855e911e-e50e-4edf-a33f-a54ba886b57d",
   "metadata": {},
   "source": [
    "## Clustering "
   ]
  },
  {
   "cell_type": "markdown",
   "id": "c02e0881-e914-4412-b9e6-ac71c7e45626",
   "metadata": {
    "tags": []
   },
   "source": [
    "## Inference "
   ]
  }
 ],
 "metadata": {
  "kernelspec": {
   "display_name": "R",
   "language": "R",
   "name": "ir"
  },
  "language_info": {
   "codemirror_mode": "r",
   "file_extension": ".r",
   "mimetype": "text/x-r-source",
   "name": "R",
   "pygments_lexer": "r",
   "version": "4.2.2"
  }
 },
 "nbformat": 4,
 "nbformat_minor": 5
}
